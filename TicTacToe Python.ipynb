{
 "cells": [
  {
   "cell_type": "code",
   "execution_count": 1,
   "metadata": {},
   "outputs": [],
   "source": [
    "#!/usr/bin/python3\n",
    "# Simple TicTacToe game in Python - EAO\n",
    "#In this game, you will be required to fill in the missing bits and commit you code weekly\n",
    "# Please fill in the missing prompts every week as directed\n",
    "\n",
    "#WEEK 1\n",
    "import random\n",
    "import sys\n",
    "\n",
    "board=[i for i in range(0,9)]\n",
    "player, computer = '',''\n",
    "\n",
    "# Corners, Center and Others, respectively\n",
    "moves=((1,7,3,9),(5,),(2,4,6,8))\n",
    "# Winner combinations - think about what combinations will make you WIN the game!!\n",
    "winners=((0,1,2), (3,4,5), (6,7,8), (0,3,6), (1,4,7), (2,5,8), (0,4,8), (2,4,6))\n",
    "# Table\n",
    "tab=range(1,10)\n"
   ]
  },
  {
   "cell_type": "code",
   "execution_count": 3,
   "metadata": {},
   "outputs": [
    {
     "name": "stdout",
     "output_type": "stream",
     "text": [
      "  |   |   \n",
      "---------\n",
      "  |   |   \n",
      "---------\n",
      "  |   |   \n",
      "---------\n"
     ]
    }
   ],
   "source": [
    "#WEEK 1\n",
    "#snippet to print the board\n",
    "def print_board():\n",
    "    x=1  #think about what value can variable x have, Hint: Integer\n",
    "    for i in board:\n",
    "        end = ' | '\n",
    "        if x%3 == 0:\n",
    "            end = ' \\n'\n",
    "            if i != 1: end+='---------\\n';\n",
    "        char=' '\n",
    "        if i in ('X','O'): char=i;  #Think about what values do we will the grid with\n",
    "        x = x + 1                         #what value will x increment each time\n",
    "        print(char,end=end)\n",
    "        \n",
    "        \n",
    "print_board()"
   ]
  },
  {
   "cell_type": "code",
   "execution_count": 8,
   "metadata": {},
   "outputs": [],
   "source": [
    "#WEEK 2\n",
    "def select_char():\n",
    "    chars=('X','O')\n",
    "    if random.randint(0,1) == 0: #what random values can we have, hint: Integer\n",
    "        return chars[::-1]\n",
    "    return chars\n",
    "\n",
    "def can_move(brd, player, move):\n",
    "    if move in tab and brd[move-1] == move-1:\n",
    "        return True       #Hint: BOOLEAN value\n",
    "    return False           #Hint: BOOLEAN value\n",
    "\n",
    "def can_win(brd, player, move):\n",
    "    places=[]\n",
    "    x=0\n",
    "    for i in brd:\n",
    "        if i == player: places.append(x);\n",
    "        x+=1\n",
    "    win = True    #Hint: BOOLEAN Value\n",
    "    for tup in winners:\n",
    "        win= True #Hint: BOOLEAN Value\n",
    "        for ix in tup:\n",
    "            if brd[ix] != player:\n",
    "                win= False   #Hint: BOOLEAN Value\n",
    "                break \n",
    "        if win == True:     #Hint: BOOLEAN Value\n",
    "            break\n",
    "    return win\n"
   ]
  },
  {
   "cell_type": "code",
   "execution_count": 9,
   "metadata": {},
   "outputs": [],
   "source": [
    "# a = random.randint(0,3)\n",
    "# print(a)"
   ]
  },
  {
   "cell_type": "code",
   "execution_count": 10,
   "metadata": {},
   "outputs": [],
   "source": [
    "#WEEK 3\n",
    "def make_move(brd, player, move, undo=False):\n",
    "    if can_move(brd, player, move):    #Hint: Look at arguments of can_move\n",
    "        brd[move-1] = player\n",
    "        win=can_win(brd, player, move)\n",
    "        if undo:\n",
    "            brd[move-1] = move-1\n",
    "        return (True, win)\n",
    "    return (False, False)\n",
    "\n",
    "# AI goes here\n",
    "def computer_move():\n",
    "    move= -1    #Tricky, don't worry (Hint: Negative INTEGER)\n",
    "    # If I can win, others don't matter.\n",
    "    for i in range(1,10):\n",
    "        if make_move(board, computer, i, True)[1]:\n",
    "            move = i #Hint, what is your counter again?\n",
    "            break\n",
    "    if move == -1: #What did you initialize move with?\n",
    "        # If player can win, block him.\n",
    "        for i in range(1,10):\n",
    "            if make_move(board, player, i, True)[1]:\n",
    "                move = i  #Hint, what is your counter again?\n",
    "                break\n",
    "    if move == -1: #What did you initialize move with?\n",
    "        # Otherwise, try to take one of desired places.\n",
    "        for tup in moves:\n",
    "            for mv in tup:\n",
    "                if move == -1 and can_move(board, computer, mv):\n",
    "                    move = mv\n",
    "                    break\n",
    "    return make_move(board, computer, move)\n",
    "\n",
    "def space_exist():\n",
    "    return board.count('X') + board.count('O') != 9\n"
   ]
  },
  {
   "cell_type": "code",
   "execution_count": 11,
   "metadata": {},
   "outputs": [
    {
     "name": "stdout",
     "output_type": "stream",
     "text": [
      "Player is O and computer is X\n",
      "  |   |   \n",
      "---------\n",
      "  |   |   \n",
      "---------\n",
      "  |   |   \n",
      "---------\n",
      "# Make your move ! [1-9] : 1\n",
      "O |   |   \n",
      "---------\n",
      "  |   |   \n",
      "---------\n",
      "X |   |   \n",
      "---------\n",
      "# Make your move ! [1-9] : 9\n",
      "O |   |   \n",
      "---------\n",
      "  | X |   \n",
      "---------\n",
      "X |   | O \n",
      "---------\n",
      "# Make your move ! [1-9] : 3\n",
      "O | X | O \n",
      "---------\n",
      "  | X |   \n",
      "---------\n",
      "X |   | O \n",
      "---------\n",
      "# Make your move ! [1-9] : 6\n",
      "O | X | O \n",
      "---------\n",
      "  | X | O \n",
      "---------\n",
      "X |   | O \n",
      "---------\n",
      "*** Congratulations ! You won ! ***\n"
     ]
    }
   ],
   "source": [
    "#WEEK 4\n",
    "player, computer = select_char()\n",
    "\n",
    "\n",
    "print('Player is '+ player +' and computer is '+ computer)  #Hint: Re read the print statement\n",
    "result='%%% Deuce ! %%%'\n",
    "while space_exist():\n",
    "    print_board()  #Call print board function\n",
    "    print('# Make your move ! [1-9] : ', end='')\n",
    "    move = int(input())\n",
    "    moved, won = make_move(board, player, move)   #Look at the arguments of the make move function\n",
    "    if not moved:\n",
    "        print(' >> Invalid number ! Try again !')\n",
    "        continue\n",
    "    #\n",
    "    if won:\n",
    "        result='*** Congratulations ! You won ! ***'\n",
    "        break\n",
    "    elif computer_move()[1]:\n",
    "        result='=== You lose ! =='\n",
    "        break;\n",
    "\n",
    "print_board() #Call print board function\n",
    "print(result) #Print the result\n"
   ]
  },
  {
   "cell_type": "code",
   "execution_count": null,
   "metadata": {},
   "outputs": [],
   "source": []
  }
 ],
 "metadata": {
  "kernelspec": {
   "display_name": "Python 3",
   "language": "python",
   "name": "python3"
  },
  "language_info": {
   "codemirror_mode": {
    "name": "ipython",
    "version": 3
   },
   "file_extension": ".py",
   "mimetype": "text/x-python",
   "name": "python",
   "nbconvert_exporter": "python",
   "pygments_lexer": "ipython3",
   "version": "3.7.3"
  }
 },
 "nbformat": 4,
 "nbformat_minor": 2
}
